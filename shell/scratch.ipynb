{
 "cells": [
  {
   "cell_type": "code",
   "execution_count": 1,
   "metadata": {},
   "outputs": [],
   "source": [
    "%load_ext autoreload\n",
    "%autoreload 2"
   ]
  },
  {
   "cell_type": "code",
   "execution_count": 2,
   "metadata": {},
   "outputs": [],
   "source": [
    "import boto3"
   ]
  },
  {
   "cell_type": "code",
   "execution_count": 3,
   "metadata": {},
   "outputs": [],
   "source": [
    "ec2 = boto3.client(\"ec2\")"
   ]
  },
  {
   "cell_type": "code",
   "execution_count": 4,
   "metadata": {},
   "outputs": [],
   "source": [
    "resp = ec2.describe_images(ImageIds=['ami-0c2ab3b8efb09f272', 'ami-0c2ab3b8efb09f272'])"
   ]
  },
  {
   "cell_type": "code",
   "execution_count": 6,
   "metadata": {},
   "outputs": [
    {
     "data": {
      "text/plain": [
       "dict_keys(['Images', 'ResponseMetadata'])"
      ]
     },
     "execution_count": 6,
     "metadata": {},
     "output_type": "execute_result"
    }
   ],
   "source": [
    "resp.keys()"
   ]
  },
  {
   "cell_type": "code",
   "execution_count": 8,
   "metadata": {},
   "outputs": [
    {
     "data": {
      "text/plain": [
       "1"
      ]
     },
     "execution_count": 8,
     "metadata": {},
     "output_type": "execute_result"
    }
   ],
   "source": [
    "len(resp[\"Images\"])"
   ]
  },
  {
   "cell_type": "code",
   "execution_count": 10,
   "metadata": {},
   "outputs": [
    {
     "data": {
      "text/plain": [
       "{'Architecture': 'x86_64',\n",
       " 'CreationDate': '2022-08-17T23:46:14.000Z',\n",
       " 'ImageId': 'ami-0c2ab3b8efb09f272',\n",
       " 'ImageLocation': 'amazon/amzn2-ami-kernel-5.10-hvm-2.0.20220805.0-x86_64-gp2',\n",
       " 'ImageType': 'machine',\n",
       " 'Public': True,\n",
       " 'OwnerId': '137112412989',\n",
       " 'PlatformDetails': 'Linux/UNIX',\n",
       " 'UsageOperation': 'RunInstances',\n",
       " 'State': 'available',\n",
       " 'BlockDeviceMappings': [{'DeviceName': '/dev/xvda',\n",
       "   'Ebs': {'DeleteOnTermination': True,\n",
       "    'SnapshotId': 'snap-0bf309b02e57acff1',\n",
       "    'VolumeSize': 8,\n",
       "    'VolumeType': 'gp2',\n",
       "    'Encrypted': False}}],\n",
       " 'Description': 'Amazon Linux 2 Kernel 5.10 AMI 2.0.20220805.0 x86_64 HVM gp2',\n",
       " 'EnaSupport': True,\n",
       " 'Hypervisor': 'xen',\n",
       " 'ImageOwnerAlias': 'amazon',\n",
       " 'Name': 'amzn2-ami-kernel-5.10-hvm-2.0.20220805.0-x86_64-gp2',\n",
       " 'RootDeviceName': '/dev/xvda',\n",
       " 'RootDeviceType': 'ebs',\n",
       " 'SriovNetSupport': 'simple',\n",
       " 'VirtualizationType': 'hvm',\n",
       " 'DeprecationTime': '2024-08-17T23:46:14.000Z'}"
      ]
     },
     "execution_count": 10,
     "metadata": {},
     "output_type": "execute_result"
    }
   ],
   "source": [
    "resp[\"Images\"][0]"
   ]
  },
  {
   "cell_type": "code",
   "execution_count": null,
   "metadata": {},
   "outputs": [],
   "source": []
  }
 ],
 "metadata": {
  "kernelspec": {
   "display_name": "Python 3.10.4 ('dev')",
   "language": "python",
   "name": "python3"
  },
  "language_info": {
   "codemirror_mode": {
    "name": "ipython",
    "version": 3
   },
   "file_extension": ".py",
   "mimetype": "text/x-python",
   "name": "python",
   "nbconvert_exporter": "python",
   "pygments_lexer": "ipython3",
   "version": "3.10.4"
  },
  "orig_nbformat": 4,
  "vscode": {
   "interpreter": {
    "hash": "248aaaef2ce54d580c63d0621ea4262f68d22105863a800468921850ea527b06"
   }
  }
 },
 "nbformat": 4,
 "nbformat_minor": 2
}
